{
  "cells": [
    {
      "cell_type": "markdown",
      "metadata": {
        "id": "Lw7XZ4yzh7Jm"
      },
      "source": [
        "### **Mount Google Drive/Parent Directory**"
      ]
    },
    {
      "cell_type": "code",
      "execution_count": null,
      "metadata": {
        "colab": {
          "base_uri": "https://localhost:8080/"
        },
        "id": "WU-TDjsOcfqG",
        "outputId": "66e28363-972c-4e32-e12c-5c02edb832a5"
      },
      "outputs": [
        {
          "output_type": "stream",
          "name": "stdout",
          "text": [
            "Mounted at /content/drive/\n"
          ]
        }
      ],
      "source": [
        "from google.colab import drive\n",
        "drive.mount('/content/drive/')"
      ]
    },
    {
      "cell_type": "markdown",
      "metadata": {
        "id": "CECUi9j5wmRu"
      },
      "source": [
        "### **Install and Import Libraries**"
      ]
    },
    {
      "cell_type": "code",
      "execution_count": null,
      "metadata": {
        "colab": {
          "base_uri": "https://localhost:8080/"
        },
        "id": "dUksiiFMI705",
        "outputId": "43c56b91-875b-4eed-d0f6-a29fcda2b37d"
      },
      "outputs": [
        {
          "output_type": "stream",
          "name": "stdout",
          "text": [
            "Looking in indexes: https://pypi.org/simple, https://us-python.pkg.dev/colab-wheels/public/simple/\n",
            "Collecting SimpleITK-SimpleElastix\n",
            "  Downloading SimpleITK_SimpleElastix-2.0.0rc2.dev909-cp38-cp38-manylinux_2_24_x86_64.whl (56.5 MB)\n",
            "\u001b[2K     \u001b[90m━━━━━━━━━━━━━━━━━━━━━━━━━━━━━━━━━━━━━━━━\u001b[0m \u001b[32m56.5/56.5 MB\u001b[0m \u001b[31m11.2 MB/s\u001b[0m eta \u001b[36m0:00:00\u001b[0m\n",
            "\u001b[?25hInstalling collected packages: SimpleITK-SimpleElastix\n",
            "Successfully installed SimpleITK-SimpleElastix-2.0.0rc2.dev909\n"
          ]
        }
      ],
      "source": [
        "# Library for image registration and others\n",
        "!pip install SimpleITK-SimpleElastix"
      ]
    },
    {
      "cell_type": "code",
      "execution_count": null,
      "metadata": {
        "id": "tHB3nA8nwq90"
      },
      "outputs": [],
      "source": [
        "import cv2\n",
        "import numpy as np                                            \n",
        "import matplotlib.pyplot as plt                 \n",
        "from google.colab.patches import cv2_imshow\n",
        "import pandas as pd\n",
        "import os\n",
        "import SimpleITK as sitk\n",
        "from scipy.signal import medfilt, lfilter\n",
        "from skimage import exposure, metrics\n",
        "from scipy.stats import multivariate_normal\n",
        "import pickle"
      ]
    },
    {
      "cell_type": "markdown",
      "metadata": {
        "id": "x2pnu_Tj1dZ5"
      },
      "source": [
        "**Image Slice Visualization**"
      ]
    },
    {
      "cell_type": "code",
      "execution_count": null,
      "metadata": {
        "id": "kZGtKZDq1bzO"
      },
      "outputs": [],
      "source": [
        "# Visualize 2D Slice from 3D Image\n",
        "def slice_show(image, slice_no, title):\n",
        "  \"\"\"\n",
        "  Function to visualiza each slice of the 3D image\n",
        "  Inputs: \n",
        "  image => Sitk Image that need to be visualized,\n",
        "  slice_no => Slice Number\n",
        "  title => The title of the Image\n",
        "\n",
        "  output: Plot Image.\n",
        "\n",
        "  \"\"\" \n",
        "  flip = np.flipud(image)\n",
        "  plt.figure()\n",
        "  plt.axis('off')\n",
        "  plt.title(title)\n",
        "  plt.imshow(flip[:,:,slice_no], cmap='gray') "
      ]
    },
    {
      "cell_type": "markdown",
      "source": [
        "**SITK and Numpy Conversion**"
      ],
      "metadata": {
        "id": "uq4RSmYwrfZ-"
      }
    },
    {
      "cell_type": "code",
      "source": [
        "def SITKtoArray(itk_image):\n",
        "  \"\"\"\n",
        "  Function to convert Sitk Image to Numpy Array\n",
        "  Inputs: \n",
        "  itk_image => Sitk Image that needs to be converted,\n",
        "\n",
        "  output: Converted Numpy Array.\n",
        "\n",
        "  \"\"\" \n",
        "  return np.moveaxis(sitk.GetArrayFromImage(itk_image),0,-1)"
      ],
      "metadata": {
        "id": "1b-VuhWvxWJ6"
      },
      "execution_count": null,
      "outputs": []
    },
    {
      "cell_type": "code",
      "source": [
        "def ArraytoSITK(array, reference_image):\n",
        "  \"\"\"\n",
        "  Function to convert Numpy Array to Sitk Image\n",
        "  Inputs: \n",
        "  array => numpy array that needs to be converted,\n",
        "  reference_image => image which metadata will be copied\n",
        "\n",
        "  output: Converted sitk image.\n",
        "\n",
        "  \"\"\"\n",
        "  image= sitk.GetImageFromArray(np.moveaxis(array,-1,0))\n",
        "  image.CopyInformation(reference_image)\n",
        "  return image"
      ],
      "metadata": {
        "id": "ZGtQSHGuxrHP"
      },
      "execution_count": null,
      "outputs": []
    },
    {
      "cell_type": "markdown",
      "metadata": {
        "id": "ttXP67YbK-y5"
      },
      "source": [
        "### **Data Loading**"
      ]
    },
    {
      "cell_type": "code",
      "execution_count": null,
      "metadata": {
        "id": "QxE7MzpvLJoD"
      },
      "outputs": [],
      "source": [
        "# Directories\n",
        "input_directory = '/content/drive/MyDrive/Colab Notebooks/Final Project MISA/'\n",
        "train_directory = input_directory+'Training_Set' \n",
        "val_directory = input_directory+'Validation_Set'\n",
        "test_directory = input_directory+'Test_Set'\n",
        "# Directories where data will be saved\n",
        "saved_data= input_directory + 'Saved_Data'\n",
        "saved_data_directory_train= input_directory+'Saved_Data/train'\n",
        "saved_data_directory_val= input_directory+'Saved_Data/val'\n",
        "saved_data_directory_test= input_directory+'Saved_Data/test'"
      ]
    },
    {
      "cell_type": "code",
      "execution_count": null,
      "metadata": {
        "id": "Hwkg2ArkNrrJ"
      },
      "outputs": [],
      "source": [
        "def loadData(directory):\n",
        "  \"\"\"\n",
        "  Function to load data with desired format from a given directory.\n",
        "  Inputs: \n",
        "  directory => either train or val or test data directory,\n",
        "\n",
        "  output: 3 lists containing images, labels and their names.\n",
        "\n",
        "  \"\"\" \n",
        "\n",
        "  labels_metadata = []\n",
        "  images_metadata = []\n",
        "  images_names= []\n",
        "  \n",
        "  for folders in sorted(os.listdir(directory)):\n",
        "    images_names.append(folders)\n",
        "    images_directory = os.path.join(directory, folders)\n",
        "    for files in sorted(os.listdir(images_directory)):\n",
        "      if '_seg' in files:\n",
        "        # Accessing the labels/ground truths\n",
        "        label_paths = os.path.join(images_directory, files)\n",
        "        label_data = sitk.ReadImage(label_paths)\n",
        "        labels_metadata.append(label_data)\n",
        "      else:\n",
        "      # if '.DS' not in files:\n",
        "        # Accessing the images\n",
        "        image_paths = os.path.join(images_directory, files)\n",
        "        image_data = sitk.ReadImage(image_paths)\n",
        "        images_metadata.append(image_data)\n",
        "  return images_metadata, labels_metadata, images_names"
      ]
    },
    {
      "cell_type": "code",
      "execution_count": null,
      "metadata": {
        "id": "0zMCaQPSMpS8"
      },
      "outputs": [],
      "source": [
        "# Training Images and labels\n",
        "train_images_metadata = []\n",
        "train_labels_metadata = []\n",
        "train_images_metadata, train_labels_metadata, train_images_names = loadData(train_directory)\n",
        "# Validation Images and labels\n",
        "val_images_metadata = []\n",
        "val_labels_metadata = []\n",
        "val_images_metadata, val_labels_metadata, val_images_names = loadData(val_directory)\n",
        "# Test Images\n",
        "test_images_metadata = []\n",
        "test_images_metadata, _, test_images_names= loadData(test_directory)"
      ]
    },
    {
      "cell_type": "code",
      "execution_count": null,
      "metadata": {
        "colab": {
          "base_uri": "https://localhost:8080/"
        },
        "id": "QSVnGQZ_r2d4",
        "outputId": "36afd0ba-35c2-4f8e-f03f-db73f7b7641d"
      },
      "outputs": [
        {
          "output_type": "stream",
          "name": "stdout",
          "text": [
            "10\n",
            "10\n",
            "5\n",
            "5\n",
            "3\n"
          ]
        }
      ],
      "source": [
        "# Check\n",
        "print(len(train_labels_metadata))\n",
        "print(len(train_images_metadata))\n",
        "print(len(val_labels_metadata))\n",
        "print(len(val_images_metadata))\n",
        "print(len(test_images_metadata))"
      ]
    },
    {
      "cell_type": "markdown",
      "metadata": {
        "id": "9d0d7rNtROTc"
      },
      "source": [
        "### **Preprocessing Steps**"
      ]
    },
    {
      "cell_type": "markdown",
      "metadata": {
        "id": "ChEhJHMMRgnC"
      },
      "source": [
        "**Bias Correction**"
      ]
    },
    {
      "cell_type": "code",
      "execution_count": null,
      "metadata": {
        "id": "9R7bb0G7RlNh"
      },
      "outputs": [],
      "source": [
        "def N4BiasCorrection(input_img_metadata):\n",
        "  \"\"\"\n",
        "  Function  for correcting low frequency intensity non-uniformity present in MRI image\n",
        "\n",
        "  \"\"\"\n",
        "  # Mask that specifies which pixels are used to estimate the bias-field  \n",
        "  sitk_mask = sitk.OtsuThreshold(input_img_metadata, 0, 1, 200)\n",
        "  # Casting the image to be in Float32 type\n",
        "  sitk_img_float = sitk.Cast(input_img_metadata, sitk.sitkFloat32)\n",
        "  # Creating Bias Corrector Filter\n",
        "  corrector = sitk.N4BiasFieldCorrectionImageFilter()\n",
        "  # Finally Bias correction is performed\n",
        "  bias_corrected_img = corrector.Execute(sitk_img_float, sitk_mask)\n",
        "  return bias_corrected_img"
      ]
    },
    {
      "cell_type": "markdown",
      "metadata": {
        "id": "39iHouibRon2"
      },
      "source": [
        "**Denoising**"
      ]
    },
    {
      "cell_type": "code",
      "execution_count": null,
      "metadata": {
        "id": "swNnUVzlRp86"
      },
      "outputs": [],
      "source": [
        "def denoise(input_img, kernel_size=3):\n",
        "  \"\"\"\n",
        "  Function that uses a median filter with a given kernel size to denoise the image\n",
        "  \n",
        "  \"\"\"\n",
        "  return medfilt(input_img, kernel_size)"
      ]
    },
    {
      "cell_type": "markdown",
      "metadata": {
        "id": "Z5O2oxFARqTC"
      },
      "source": [
        "**Normalization**"
      ]
    },
    {
      "cell_type": "code",
      "execution_count": null,
      "metadata": {
        "id": "cgJV4uRWRtgW"
      },
      "outputs": [],
      "source": [
        "def normalization(input_img):\n",
        "  \"\"\"\n",
        "  Function that normalizes the image in min-max form.\n",
        "  \n",
        "  \"\"\"\n",
        "  img = input_img.copy()\n",
        "  # Minimum intensity present in the image\n",
        "  min_intensity = img.min()\n",
        "  # Maximum intensity present in the image\n",
        "  max_intensity = img.max()\n",
        "  # Image Normalization\n",
        "  img_normalized = ( input_img - min_intensity ) / ( max_intensity - min_intensity )\n",
        "  return img_normalized"
      ]
    },
    {
      "cell_type": "markdown",
      "metadata": {
        "id": "JNq7EeSxRtv5"
      },
      "source": [
        "**CLAHE**"
      ]
    },
    {
      "cell_type": "code",
      "execution_count": null,
      "metadata": {
        "id": "YNZAL6MmRvby"
      },
      "outputs": [],
      "source": [
        "def apply_clahe(input_img):\n",
        "  \"\"\"\n",
        "  Function that performs contrast-limited adaptive histogram equalization on a given image.\n",
        "  \n",
        "  \"\"\"\n",
        "  img= input_img.copy()\n",
        "  # Applying clahe on a given image (library taken from skimage)\n",
        "  clahe_img = exposure.equalize_adapthist(img, clip_limit=0.01)\n",
        "  return clahe_img"
      ]
    },
    {
      "cell_type": "markdown",
      "metadata": {
        "id": "G8MyXlvlQofp"
      },
      "source": [
        "**Preprocessing**"
      ]
    },
    {
      "cell_type": "code",
      "execution_count": null,
      "metadata": {
        "id": "uSXJurFMQmKo"
      },
      "outputs": [],
      "source": [
        "def preprocessing(input_img_metadata):\n",
        "  \"\"\"\n",
        "  Function that performs all the preprocessing steps on a given image.\n",
        "  \n",
        "  \"\"\"\n",
        "  # input_img = np.moveaxis(sitk.GetArrayFromImage(input_img_metadata),0,-1)\n",
        "  # slice_show(input_img, 121, 'Input Image')\n",
        "  # Bias Correction\n",
        "  bias_img = N4BiasCorrection(input_img_metadata)\n",
        "  bias_corrected_img = np.moveaxis(sitk.GetArrayFromImage(bias_img),0,-1)\n",
        "  # slice_show(bias_corrected_img, 121, 'Bias Corrected Image')\n",
        "  # Image Denoising\n",
        "  denoised_img = denoise(bias_corrected_img)\n",
        "  # slice_show(denoised_img, 121, 'Denoised Image')\n",
        "  # Image Noramlization\n",
        "  normalized_img = normalization(denoised_img)\n",
        "  # slice_show(normalized_img, 121, 'Normalized Image')\n",
        "  # Adaptive Histogram Equalization\n",
        "  clahe_img = apply_clahe(normalized_img)\n",
        "  # slice_show(clahe_img, 121, 'Clahe Image')\n",
        "  return clahe_img"
      ]
    },
    {
      "cell_type": "markdown",
      "metadata": {
        "id": "1lUsHv2sQg_E"
      },
      "source": [
        "### **Preprocessing Pipeline**"
      ]
    },
    {
      "cell_type": "markdown",
      "source": [
        "**Training Set**"
      ],
      "metadata": {
        "id": "Yllx4J7JDmiS"
      }
    },
    {
      "cell_type": "code",
      "execution_count": null,
      "metadata": {
        "id": "gzh0NA4WQlrf"
      },
      "outputs": [],
      "source": [
        "# Preprocessing training images and storing\n",
        "train_preprocessed_images = []\n",
        "for data in train_images_metadata:\n",
        "  preprocessed_img = preprocessing(data)\n",
        "  train_preprocessed_images.append(preprocessed_img)"
      ]
    },
    {
      "cell_type": "code",
      "source": [
        "pickle.dump(train_preprocessed_images, open('/content/drive/MyDrive/Colab Notebooks/Final Project MISA/Saved_Data/train_preprocessed_images.sav', 'wb'))"
      ],
      "metadata": {
        "id": "VGrD62oyLtwp"
      },
      "execution_count": null,
      "outputs": []
    },
    {
      "cell_type": "code",
      "source": [
        "train_preprocessed_images= pickle.load(open('/content/drive/MyDrive/Colab Notebooks/Final Project MISA/Saved_Data/train_preprocessed_images.sav', 'rb'))"
      ],
      "metadata": {
        "id": "iIEWtGUUMCGO"
      },
      "execution_count": null,
      "outputs": []
    },
    {
      "cell_type": "code",
      "source": [
        "# Storing preprocessed training images\n",
        "for i in range(len(train_preprocessed_images)): \n",
        "  image= ArraytoSITK(train_preprocessed_images[i],train_images_metadata[i])\n",
        "  sitk.WriteImage(image, saved_data_directory_train+'/'+train_images_names[i]+'_preprocessed.nii.gz')"
      ],
      "metadata": {
        "id": "SK-hd7SJ2cxv"
      },
      "execution_count": null,
      "outputs": []
    },
    {
      "cell_type": "code",
      "source": [
        "# Check before preprocessing\n",
        "slice_show(SITKtoArray(train_images_metadata[0]),157,'Slice 157')"
      ],
      "metadata": {
        "colab": {
          "base_uri": "https://localhost:8080/",
          "height": 214
        },
        "id": "CCd-hZbuxSGk",
        "outputId": "a678fac2-e56d-495d-a75c-7f490e6baf04"
      },
      "execution_count": null,
      "outputs": [
        {
          "output_type": "display_data",
          "data": {
            "text/plain": [
              "<Figure size 432x288 with 1 Axes>"
            ],
            "image/png": "[encoded data removed]"
          },
          "metadata": {
            "needs_background": "light"
          }
        }
      ]
    },
    {
      "cell_type": "code",
      "source": [
        "# Check After preprocessing\n",
        "slice_show(train_preprocessed_images[0],157,'Slice 157')"
      ],
      "metadata": {
        "colab": {
          "base_uri": "https://localhost:8080/",
          "height": 214
        },
        "id": "fc7KL0hh2LFZ",
        "outputId": "e202f633-5f2e-4457-ac81-99f74cec2b1d"
      },
      "execution_count": null,
      "outputs": [
        {
          "output_type": "display_data",
          "data": {
            "text/plain": [
              "<Figure size 432x288 with 1 Axes>"
            ],
            "image/png": "[encoded data removed]"
          },
          "metadata": {
            "needs_background": "light"
          }
        }
      ]
    },
    {
      "cell_type": "markdown",
      "source": [
        "**Test Set**"
      ],
      "metadata": {
        "id": "7ynJX25jDtG0"
      }
    },
    {
      "cell_type": "code",
      "source": [
        "# Preprocessing test images and storing\n",
        "test_preprocessed_images = []\n",
        "for data in test_images_metadata:\n",
        "  preprocessed_img = preprocessing(data)\n",
        "  test_preprocessed_images.append(preprocessed_img)"
      ],
      "metadata": {
        "id": "7hbeN3_qDude"
      },
      "execution_count": null,
      "outputs": []
    },
    {
      "cell_type": "code",
      "source": [
        "pickle.dump(test_preprocessed_images, open('/content/drive/MyDrive/Colab Notebooks/Final Project MISA/Saved_Data/test_preprocessed_images.sav', 'wb'))"
      ],
      "metadata": {
        "id": "05pn0DBqMic8"
      },
      "execution_count": null,
      "outputs": []
    },
    {
      "cell_type": "code",
      "source": [
        "test_preprocessed_images= pickle.load(open('/content/drive/MyDrive/Colab Notebooks/Final Project MISA/Saved_Data/test_preprocessed_images.sav', 'rb'))"
      ],
      "metadata": {
        "id": "4Nb_jZ8OMic9"
      },
      "execution_count": null,
      "outputs": []
    },
    {
      "cell_type": "code",
      "source": [
        "# Storing preprocessed test images\n",
        "for i in range(len(test_preprocessed_images)): \n",
        "  image= ArraytoSITK(test_preprocessed_images[i], test_images_metadata[i])\n",
        "  sitk.WriteImage(image, saved_data_directory_test+'/'+test_images_names[i]+'_preprocessed.nii.gz')"
      ],
      "metadata": {
        "id": "HtRn6AVn65SY"
      },
      "execution_count": null,
      "outputs": []
    },
    {
      "cell_type": "markdown",
      "source": [
        "### **Registration Pipeline**"
      ],
      "metadata": {
        "id": "3WxTj0KIGm8Y"
      }
    },
    {
      "cell_type": "markdown",
      "source": [
        "**Resample Voxel Spacing**"
      ],
      "metadata": {
        "id": "oIok25sVzn4E"
      }
    },
    {
      "cell_type": "code",
      "source": [
        "def resample_volume(image, new_spacing):\n",
        "  \"\"\"\n",
        "  Function  for resampling the voxel-spacing of an image so that both fixed and moving image have same spacing for voxels before registration.\n",
        "  Inputs:\n",
        "  image => Image which voxel spacing needs to be resampled,\n",
        "  new_spacing => desired voxel spacing.\n",
        "\n",
        "  Output:\n",
        "  New volume image with desired voxel spacing.\n",
        "\n",
        "  \"\"\"\n",
        "  # Image cast to Float32 mode required\n",
        "  volume = sitk.Cast(image,sitk.sitkFloat32)\n",
        "  # Interpolator creation\n",
        "  interpolator = sitk.sitkLinear\n",
        "  # Get the current voxel spacing and size\n",
        "  original_spacing = volume.GetSpacing()\n",
        "  original_size = volume.GetSize()\n",
        "  # Resampling\n",
        "  new_size = [int(round(osz*ospc/nspc)) for osz,ospc,nspc in zip(original_size, original_spacing, new_spacing)]\n",
        "  return sitk.Resample(volume, new_size, sitk.Transform(), interpolator,\n",
        "                        volume.GetOrigin(), new_spacing, volume.GetDirection(), 0,\n",
        "                        volume.GetPixelID())"
      ],
      "metadata": {
        "id": "F_bpW2Nvzqrm"
      },
      "execution_count": null,
      "outputs": []
    },
    {
      "cell_type": "code",
      "source": [
        "def RegistrationFramework(fixed_preprocessed_images, fixed_images_metadata, moving_preprocessed_images, moving_images_metadata, moving_masks_metadata, parameter_list, output_directory):\n",
        "  \"\"\"\n",
        "  Function for performing Image Registration.\n",
        "  \n",
        "  Inputs:\n",
        "  fixed_preprocessed_images => Fixed Image list(numpy),\n",
        "  fixed_images_metadata =>  Fixed Image list in Sitk format,\n",
        "  moving_preprocessed_images => Moving Image list(numpy),\n",
        "  moving_images_metadata =>  Moving Image list in Sitk format,\n",
        "  moving_masks_metadata => Ground Truths list of Moving Images in Sitk format,\n",
        "  parameter_list => Parameters that will be used by elastix for registration,\n",
        "  output_directory => Directory where registered images will be saved.\n",
        "  \n",
        "  \"\"\"\n",
        "  for i in range(len(fixed_images_metadata)):\n",
        "    # Accesing current fixed image from the list\n",
        "    current_fixed_img = ArraytoSITK(fixed_preprocessed_images[i], fixed_images_metadata[i])\n",
        "    fixed_output_directory = output_directory + '/' + val_images_names[i]\n",
        "    if not os.path.exists(fixed_output_directory):\n",
        "      os.makedirs(fixed_output_directory)\n",
        "    for j in range(len(moving_images_metadata)):\n",
        "      # Accesing current moving image from the list\n",
        "      current_moving = ArraytoSITK(moving_preprocessed_images[j], moving_images_metadata[j])\n",
        "      # Resampling the voxel spacing of the moving image according to the fixed one\n",
        "      current_moving_img = resample_volume(current_moving, current_fixed_img.GetSpacing())\n",
        "      # Registered Images will be saved in this directory\n",
        "      current_output_directory = fixed_output_directory + '/' + train_images_names[j]\n",
        "      if not os.path.exists(current_output_directory):\n",
        "        os.makedirs(current_output_directory)\n",
        "      output_registered_image = current_output_directory + '/registered_image.nii.gz'\n",
        "\n",
        "      # Image registration steps using Elastix\n",
        "      elastixImageFilter = sitk.ElastixImageFilter()\n",
        "      elastixImageFilter.LogToConsoleOn()\n",
        "      elastixImageFilter.SetFixedImage(current_fixed_img)\n",
        "      elastixImageFilter.SetMovingImage(current_moving_img)\n",
        "      parameterMapVector = sitk.VectorOfParameterMap()\n",
        "      # If there are multiple parameter files, all will be appended in the vector\n",
        "      for p in parameter_list:\n",
        "        parameterMapVector.append(sitk.ReadParameterFile(p))\n",
        "      elastixImageFilter.SetParameterMap(parameterMapVector)\n",
        "      elastixImageFilter.Execute()\n",
        "\n",
        "      # Accesing the deformation field from the registration performed\n",
        "      transformed_parameter_map= elastixImageFilter.GetTransformParameterMap()\n",
        "      sitk.WriteImage(elastixImageFilter.GetResultImage(),output_registered_image)\n",
        "\n",
        "      # Label Propagation of the moving image to get the labels for fixed images after registration \n",
        "      output_transformed_label= current_output_directory +'/transformed_label.nii.gz'\n",
        "\n",
        "      # Label Propagation using Transformix\n",
        "      transformixImageFilter = sitk.TransformixImageFilter()\n",
        "      transformixImageFilter.SetMovingImage(moving_masks_metadata[j])\n",
        "      transformixImageFilter.SetTransformParameterMap(transformed_parameter_map)\n",
        "      transformixImageFilter.SetOutputDirectory(current_output_directory)\n",
        "      transformixImageFilter.Execute()\n",
        "\n",
        "      # Finally storing the mask images\n",
        "      sitk.WriteImage(transformixImageFilter.GetResultImage(), output_transformed_label)\n",
        "      "
      ],
      "metadata": {
        "id": "HFK0qxKY7T2k"
      },
      "execution_count": null,
      "outputs": []
    },
    {
      "cell_type": "markdown",
      "source": [
        "**Image Registration**"
      ],
      "metadata": {
        "id": "qqS3Rg02ZeWY"
      }
    },
    {
      "cell_type": "code",
      "source": [
        "# Image Registration Pipeline\n",
        "reg_output_directory = '/content/drive/MyDrive/Colab Notebooks/Final Project MISA/Registration_Results/'\n",
        "test_output_directory = reg_output_directory + 'test'\n",
        "\n",
        "# Parameter that will be used for registration\n",
        "parameter_directory = '/content/drive/MyDrive/Colab Notebooks/Final Project MISA/Parameters_Registration_10'\n",
        "parameter_list = []\n",
        "for files in sorted(os.listdir(parameter_directory)):\n",
        "  param_directory = os.path.join(parameter_directory, files)\n",
        "  parameter_list.append(param_directory)"
      ],
      "metadata": {
        "id": "bB-fnUG8XiFK"
      },
      "execution_count": null,
      "outputs": []
    },
    {
      "cell_type": "code",
      "source": [
        "# Registration is performed on Test Images \n",
        "RegistrationFramework(test_preprocessed_images, test_images_metadata, train_preprocessed_images, train_images_metadata, train_labels_metadata, parameter_list, test_output_directory)"
      ],
      "metadata": {
        "id": "Q0jHGB0JBi_F"
      },
      "execution_count": null,
      "outputs": []
    },
    {
      "cell_type": "code",
      "source": [
        "# parameter_directory = '/content/drive/MyDrive/Colab Notebooks/Final Project MISA/Parameters_Registration_09'\n",
        "# parameter_list = []\n",
        "# for files in sorted(os.listdir(parameter_directory)):\n",
        "#   param_directory = os.path.join(parameter_directory, files)\n",
        "#   parameter_list.append(param_directory)"
      ],
      "metadata": {
        "id": "-rAu_hXaQHrL"
      },
      "execution_count": null,
      "outputs": []
    },
    {
      "cell_type": "markdown",
      "source": [
        "**Test Data**"
      ],
      "metadata": {
        "id": "cW3SFpqEqOql"
      }
    },
    {
      "cell_type": "code",
      "source": [
        "# Propagated Label Candiadate Lists for each registered images without voxel-spacing resampling\n",
        "transformed_labels=[]\n",
        "for folders in sorted(os.listdir(reg_output_directory + 'test')):\n",
        "  labels=[]\n",
        "  for candidates in sorted(os.listdir(reg_output_directory+'test/'+folders)):\n",
        "    labels.append(sitk.ReadImage(reg_output_directory+'test/'+folders+'/'+candidates+'/transformed_label.nii.gz'))\n",
        "  transformed_labels.append(labels)"
      ],
      "metadata": {
        "id": "p-QAxqjS13ia"
      },
      "execution_count": null,
      "outputs": []
    },
    {
      "cell_type": "code",
      "source": [
        "# Propagated Label Candiadate Lists in numpy array format for each registered images without voxel-spacing resampling\n",
        "transformed_labels_data=[]\n",
        "for elements in transformed_labels: \n",
        "  labels=[]\n",
        "  for candidates in elements: \n",
        "    labels.append(SITKtoArray(candidates).astype(np.uint8))\n",
        "  transformed_labels_data.append(labels)\n",
        "      "
      ],
      "metadata": {
        "id": "KyfMs2Ph-8w-"
      },
      "execution_count": null,
      "outputs": []
    },
    {
      "cell_type": "markdown",
      "source": [
        "## **Segmentation Pipeline**"
      ],
      "metadata": {
        "id": "iuA5kDuuz7H1"
      }
    },
    {
      "cell_type": "code",
      "source": [
        "# Candiadate Lists for each registered images without voxel-spacing resampling\n",
        "registered_images = []\n",
        "for folders in sorted(os.listdir(reg_output_directory + 'val')):\n",
        "  images = []\n",
        "  for candidates in sorted(os.listdir(reg_output_directory+'val/'+folders)):\n",
        "    images.append(SITKtoArray(sitk.ReadImage(reg_output_directory+'val/'+folders+'/'+candidates+'/registered_image.nii.gz')))\n",
        "  registered_images.append(images)"
      ],
      "metadata": {
        "id": "9UsluXux7uvx"
      },
      "execution_count": null,
      "outputs": []
    },
    {
      "cell_type": "code",
      "source": [
        "# Preprocessed Fixed Images (Validation Images)\n",
        "test_images=[]\n",
        "for files in os.listdir(saved_data_directory_test):\n",
        "  images = sitk.ReadImage(os.path.join(saved_data_directory_test, files))\n",
        "  images_float = sitk.Cast(images, sitk.sitkFloat32)\n",
        "  test_images.append(SITKtoArray(images_float))"
      ],
      "metadata": {
        "id": "XLQmj6farxpI"
      },
      "execution_count": null,
      "outputs": []
    },
    {
      "cell_type": "markdown",
      "source": [
        "### **Majority voting**"
      ],
      "metadata": {
        "id": "7jNENF_J11JR"
      }
    },
    {
      "cell_type": "code",
      "source": [
        "def majority_voting(segmentation_candidates):\n",
        "\n",
        "  \"\"\"\n",
        "  Function to perform majority voting from the propagated labels in registration step to perform final segmentation.\n",
        "  Inputs:\n",
        "  segmentation_candidates => A list of lists containing all the candidate labels resulted after image registration step,\n",
        "\n",
        "  Output:\n",
        "  A list containing all the segmentation masks.\n",
        "  \"\"\" \n",
        "\n",
        "  # Create an empty list to store the final segmentation maps\n",
        "  final_segmentations = []\n",
        "  \n",
        "  # Iterate over each set of segmentation candidates\n",
        "  for candidates in segmentation_candidates:\n",
        "    # Get the shape of the segmentation maps\n",
        "    M, N, O = candidates[0].shape\n",
        "    # Create an empty array to store the final segmentation map for this image\n",
        "    final_segmentation = np.zeros((M, N, O), dtype=np.uint8)\n",
        "    \n",
        "    # Iterate over each voxel in the image\n",
        "    for i in range(M):\n",
        "      for j in range(N):\n",
        "        for k in range(O):\n",
        "          # Compute the majority label at this voxel\n",
        "          labels, counts = np.unique([seg[i, j, k] for seg in candidates], return_counts=True)\n",
        "          final_segmentation[i, j, k] = labels[np.argmax(counts)]\n",
        "          \n",
        "    # Add the final segmentation map for this image to the list\n",
        "    final_segmentations.append(final_segmentation)\n",
        "    \n",
        "  return final_segmentations"
      ],
      "metadata": {
        "id": "NwriraLT5pw4"
      },
      "execution_count": null,
      "outputs": []
    },
    {
      "cell_type": "code",
      "source": [
        "# Performing Majority Voting\n",
        "final_segmentations_majority_voting = majority_voting(transformed_labels_data)"
      ],
      "metadata": {
        "id": "dlwS71WT6ecE"
      },
      "execution_count": null,
      "outputs": []
    },
    {
      "cell_type": "code",
      "source": [
        "# Check\n",
        "slice_show(final_segmentations_majority_voting[0], 144, 'Slice141 final segmentation patient0')"
      ],
      "metadata": {
        "colab": {
          "base_uri": "https://localhost:8080/",
          "height": 214
        },
        "id": "tkUfRL9pFiOs",
        "outputId": "27119e9c-e04f-4686-ce31-54c9cd8e694c"
      },
      "execution_count": null,
      "outputs": [
        {
          "output_type": "display_data",
          "data": {
            "text/plain": [
              "<Figure size 432x288 with 1 Axes>"
            ],
            "image/png": "[encoded data removed]"
          },
          "metadata": {
            "needs_background": "light"
          }
        }
      ]
    },
    {
      "cell_type": "code",
      "source": [
        "# Storing Final Segmentation Results using Majority Voting\n",
        "pickle.dump(final_segmentations_majority_voting, open(saved_data+'/final_segmentations_majority_voting', 'wb'))"
      ],
      "metadata": {
        "id": "_7iUQbvxHgW_"
      },
      "execution_count": null,
      "outputs": []
    },
    {
      "cell_type": "code",
      "source": [
        "test_results_directory = '/content/drive/MyDrive/Colab Notebooks/Final Project MISA/Test Results'\n",
        "for index in range(len(final_segmentations_majority_voting)):\n",
        "  current_test_results_directory = test_results_directory + '/' + test_images_names[index] + '_seg.nii.gz'\n",
        "  current_seg_result = ArraytoSITK(final_segmentations_majority_voting[index], test_images_metadata[index])\n",
        "  sitk.WriteImage(current_seg_result, current_test_results_directory)"
      ],
      "metadata": {
        "id": "_xSdw0uZtoKC"
      },
      "execution_count": null,
      "outputs": []
    }
  ],
  "metadata": {
    "colab": {
      "provenance": []
    },
    "kernelspec": {
      "display_name": "Python 3",
      "name": "python3"
    },
    "language_info": {
      "name": "python"
    }
  },
  "nbformat": 4,
  "nbformat_minor": 0
}